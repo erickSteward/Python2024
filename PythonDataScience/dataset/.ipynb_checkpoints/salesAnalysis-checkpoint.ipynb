{
 "cells": [
  {
   "cell_type": "markdown",
   "id": "87f339f5-056f-49fa-8395-4e751b5e52a4",
   "metadata": {},
   "source": [
    "This analysis aims to better understand business performance by tracking historical sales data to gain valuable insight.\n"
   ]
  },
  {
   "cell_type": "code",
   "execution_count": 3,
   "id": "920d9329-3f06-4b5d-83fa-fb68fc72f771",
   "metadata": {},
   "outputs": [],
   "source": [
    "import pandas as pd\n",
    "import numpy as np\n",
    "import seaborn as sns\n",
    "import matplotlib.pylab as plt\n",
    "import plotly.express as px\n",
    "plt.style.use('fivethirtyeight')#theme for the plot area"
   ]
  },
  {
   "cell_type": "code",
   "execution_count": 5,
   "id": "ab6bd97e-6a3c-4071-b984-2e6f4d6a7073",
   "metadata": {},
   "outputs": [
    {
     "data": {
      "text/html": [
       "<div>\n",
       "<style scoped>\n",
       "    .dataframe tbody tr th:only-of-type {\n",
       "        vertical-align: middle;\n",
       "    }\n",
       "\n",
       "    .dataframe tbody tr th {\n",
       "        vertical-align: top;\n",
       "    }\n",
       "\n",
       "    .dataframe thead th {\n",
       "        text-align: right;\n",
       "    }\n",
       "</style>\n",
       "<table border=\"1\" class=\"dataframe\">\n",
       "  <thead>\n",
       "    <tr style=\"text-align: right;\">\n",
       "      <th></th>\n",
       "      <th>date</th>\n",
       "      <th>time</th>\n",
       "      <th>ticket_number</th>\n",
       "      <th>article</th>\n",
       "      <th>Quantity</th>\n",
       "      <th>unit_price</th>\n",
       "    </tr>\n",
       "  </thead>\n",
       "  <tbody>\n",
       "    <tr>\n",
       "      <th>0</th>\n",
       "      <td>2021-01-02</td>\n",
       "      <td>08:38</td>\n",
       "      <td>150040.0</td>\n",
       "      <td>BAGUETTE</td>\n",
       "      <td>1.0</td>\n",
       "      <td>0,90 €</td>\n",
       "    </tr>\n",
       "    <tr>\n",
       "      <th>1</th>\n",
       "      <td>2021-01-02</td>\n",
       "      <td>08:38</td>\n",
       "      <td>150040.0</td>\n",
       "      <td>PAIN AU CHOCOLAT</td>\n",
       "      <td>3.0</td>\n",
       "      <td>1,20 €</td>\n",
       "    </tr>\n",
       "    <tr>\n",
       "      <th>4</th>\n",
       "      <td>2021-01-02</td>\n",
       "      <td>09:14</td>\n",
       "      <td>150041.0</td>\n",
       "      <td>PAIN AU CHOCOLAT</td>\n",
       "      <td>2.0</td>\n",
       "      <td>1,20 €</td>\n",
       "    </tr>\n",
       "    <tr>\n",
       "      <th>5</th>\n",
       "      <td>2021-01-02</td>\n",
       "      <td>09:14</td>\n",
       "      <td>150041.0</td>\n",
       "      <td>PAIN</td>\n",
       "      <td>1.0</td>\n",
       "      <td>1,15 €</td>\n",
       "    </tr>\n",
       "    <tr>\n",
       "      <th>8</th>\n",
       "      <td>2021-01-02</td>\n",
       "      <td>09:25</td>\n",
       "      <td>150042.0</td>\n",
       "      <td>TRADITIONAL BAGUETTE</td>\n",
       "      <td>5.0</td>\n",
       "      <td>1,20 €</td>\n",
       "    </tr>\n",
       "    <tr>\n",
       "      <th>11</th>\n",
       "      <td>2021-01-02</td>\n",
       "      <td>09:25</td>\n",
       "      <td>150043.0</td>\n",
       "      <td>BAGUETTE</td>\n",
       "      <td>2.0</td>\n",
       "      <td>0,90 €</td>\n",
       "    </tr>\n",
       "    <tr>\n",
       "      <th>12</th>\n",
       "      <td>2021-01-02</td>\n",
       "      <td>09:25</td>\n",
       "      <td>150043.0</td>\n",
       "      <td>CROISSANT</td>\n",
       "      <td>3.0</td>\n",
       "      <td>1,10 €</td>\n",
       "    </tr>\n",
       "    <tr>\n",
       "      <th>15</th>\n",
       "      <td>2021-01-02</td>\n",
       "      <td>09:27</td>\n",
       "      <td>150044.0</td>\n",
       "      <td>BANETTE</td>\n",
       "      <td>1.0</td>\n",
       "      <td>1,05 €</td>\n",
       "    </tr>\n",
       "    <tr>\n",
       "      <th>18</th>\n",
       "      <td>2021-01-02</td>\n",
       "      <td>09:32</td>\n",
       "      <td>150045.0</td>\n",
       "      <td>TRADITIONAL BAGUETTE</td>\n",
       "      <td>3.0</td>\n",
       "      <td>1,20 €</td>\n",
       "    </tr>\n",
       "    <tr>\n",
       "      <th>19</th>\n",
       "      <td>2021-01-02</td>\n",
       "      <td>09:32</td>\n",
       "      <td>150045.0</td>\n",
       "      <td>CROISSANT</td>\n",
       "      <td>6.0</td>\n",
       "      <td>1,10 €</td>\n",
       "    </tr>\n",
       "  </tbody>\n",
       "</table>\n",
       "</div>"
      ],
      "text/plain": [
       "          date   time  ticket_number               article  Quantity  \\\n",
       "0   2021-01-02  08:38       150040.0              BAGUETTE       1.0   \n",
       "1   2021-01-02  08:38       150040.0      PAIN AU CHOCOLAT       3.0   \n",
       "4   2021-01-02  09:14       150041.0      PAIN AU CHOCOLAT       2.0   \n",
       "5   2021-01-02  09:14       150041.0                  PAIN       1.0   \n",
       "8   2021-01-02  09:25       150042.0  TRADITIONAL BAGUETTE       5.0   \n",
       "11  2021-01-02  09:25       150043.0              BAGUETTE       2.0   \n",
       "12  2021-01-02  09:25       150043.0             CROISSANT       3.0   \n",
       "15  2021-01-02  09:27       150044.0               BANETTE       1.0   \n",
       "18  2021-01-02  09:32       150045.0  TRADITIONAL BAGUETTE       3.0   \n",
       "19  2021-01-02  09:32       150045.0             CROISSANT       6.0   \n",
       "\n",
       "   unit_price  \n",
       "0      0,90 €  \n",
       "1      1,20 €  \n",
       "4      1,20 €  \n",
       "5      1,15 €  \n",
       "8      1,20 €  \n",
       "11     0,90 €  \n",
       "12     1,10 €  \n",
       "15     1,05 €  \n",
       "18     1,20 €  \n",
       "19     1,10 €  "
      ]
     },
     "execution_count": 5,
     "metadata": {},
     "output_type": "execute_result"
    }
   ],
   "source": [
    "# connecting to the datasource\n",
    "df = pd.read_csv('dataset/bakery_sales.csv', index_col = 0)\n",
    "df.head(10)"
   ]
  },
  {
   "cell_type": "code",
   "execution_count": 6,
   "id": "819d1492-4881-4d87-aeb9-404c83622b84",
   "metadata": {},
   "outputs": [
    {
     "name": "stdout",
     "output_type": "stream",
     "text": [
      "(234005, 6)\n"
     ]
    }
   ],
   "source": [
    "print(df.shape)#checking the structure of our data(total rows and columns)"
   ]
  },
  {
   "cell_type": "code",
   "execution_count": 8,
   "id": "c76a0104-b8a3-4e86-9ca1-28417bf51704",
   "metadata": {},
   "outputs": [
    {
     "name": "stdout",
     "output_type": "stream",
     "text": [
      "<class 'pandas.core.frame.DataFrame'>\n",
      "Index: 234005 entries, 0 to 511395\n",
      "Data columns (total 6 columns):\n",
      " #   Column         Non-Null Count   Dtype  \n",
      "---  ------         --------------   -----  \n",
      " 0   date           234005 non-null  object \n",
      " 1   time           234005 non-null  object \n",
      " 2   ticket_number  234005 non-null  float64\n",
      " 3   article        234005 non-null  object \n",
      " 4   Quantity       234005 non-null  float64\n",
      " 5   unit_price     234005 non-null  object \n",
      "dtypes: float64(2), object(4)\n",
      "memory usage: 12.5+ MB\n",
      "None\n"
     ]
    }
   ],
   "source": [
    "print(df.info())"
   ]
  },
  {
   "cell_type": "markdown",
   "id": "43522829-f618-4765-894e-854424f33402",
   "metadata": {},
   "source": [
    "data cleaning processes. removing blanks, duplicates, null values etc"
   ]
  },
  {
   "cell_type": "code",
   "execution_count": 9,
   "id": "7483e690-23b2-4ec4-aaf4-8db21efbfba6",
   "metadata": {},
   "outputs": [
    {
     "name": "stdout",
     "output_type": "stream",
     "text": [
      "date             0\n",
      "time             0\n",
      "ticket_number    0\n",
      "article          0\n",
      "Quantity         0\n",
      "unit_price       0\n",
      "dtype: int64\n"
     ]
    }
   ],
   "source": [
    "# find missing values\n",
    "print(df.isna().sum())"
   ]
  },
  {
   "cell_type": "code",
   "execution_count": 10,
   "id": "1fa9b233-ad73-4e27-a898-8b81307262c8",
   "metadata": {},
   "outputs": [
    {
     "data": {
      "text/plain": [
       "np.int64(1210)"
      ]
     },
     "execution_count": 10,
     "metadata": {},
     "output_type": "execute_result"
    }
   ],
   "source": [
    "# find duplicated data\n",
    "df.duplicated().sum()"
   ]
  },
  {
   "cell_type": "code",
   "execution_count": 11,
   "id": "331278af-5d0e-4c72-b5cd-e6d39f077515",
   "metadata": {},
   "outputs": [
    {
     "data": {
      "text/plain": [
       "(232795, 6)"
      ]
     },
     "execution_count": 11,
     "metadata": {},
     "output_type": "execute_result"
    }
   ],
   "source": [
    "# remove the duplicated values\n",
    "df= df.drop_duplicates()\n",
    "df.shape"
   ]
  },
  {
   "cell_type": "code",
   "execution_count": 17,
   "id": "e583461c-f4b9-4d9c-af61-ac2daa615e52",
   "metadata": {},
   "outputs": [],
   "source": [
    "# rename the columns to have more meaningful names\n",
    "df = df.rename(columns = {'date': 'Date',\n",
    "                          'time':'Time',\n",
    "                          'ticket_number':'Transaction_id',\n",
    "                          'article':'Menu',\n",
    "                          'unit_price':'Price'})\n",
    "\n",
    "# convert the Menu value to title case\n",
    "df['Menu'] =df['Menu'].str.title()\n",
    "\n",
    "# remove the . in quantity and fix the Price\n",
    "df = df.replace(to_replace = {'Quantity' : {'.': ''},\n",
    "                              'Price' : {'€' : '', ',':'.'}}, regex=True)\n",
    "\n",
    "# change the datatype of the Quantity, Price, Menu and Transaction_id\n",
    "df = df.astype({'Quantity': 'int',\n",
    "                'Price' : 'float',\n",
    "                'Transaction_id' : 'int',\n",
    "                'Menu' : 'str'})"
   ]
  },
  {
   "cell_type": "code",
   "execution_count": 18,
   "id": "504440e7-751a-4749-bd54-6c94b268549c",
   "metadata": {},
   "outputs": [],
   "source": [
    "# create a Revenue Column to find the bakery's income\n",
    "df['Revenue'] = df['Quantity']*df['Price']"
   ]
  },
  {
   "cell_type": "code",
   "execution_count": 19,
   "id": "2ffecd3a-bc22-40ec-b0c7-6c6626e99099",
   "metadata": {},
   "outputs": [
    {
     "name": "stdout",
     "output_type": "stream",
     "text": [
      "<class 'pandas.core.frame.DataFrame'>\n",
      "Index: 232795 entries, 0 to 511395\n",
      "Data columns (total 7 columns):\n",
      " #   Column          Non-Null Count   Dtype  \n",
      "---  ------          --------------   -----  \n",
      " 0   Date            232795 non-null  object \n",
      " 1   Time            232795 non-null  object \n",
      " 2   Transaction_id  232795 non-null  int64  \n",
      " 3   Menu            232795 non-null  object \n",
      " 4   Quantity        232795 non-null  int64  \n",
      " 5   Price           232795 non-null  float64\n",
      " 6   Revenue         232795 non-null  float64\n",
      "dtypes: float64(2), int64(2), object(3)\n",
      "memory usage: 14.2+ MB\n",
      "None\n"
     ]
    }
   ],
   "source": [
    "print(df.info())"
   ]
  },
  {
   "cell_type": "code",
   "execution_count": 20,
   "id": "779b2d42-79b0-4270-bcac-edfbe2f32f25",
   "metadata": {},
   "outputs": [
    {
     "data": {
      "text/html": [
       "<div>\n",
       "<style scoped>\n",
       "    .dataframe tbody tr th:only-of-type {\n",
       "        vertical-align: middle;\n",
       "    }\n",
       "\n",
       "    .dataframe tbody tr th {\n",
       "        vertical-align: top;\n",
       "    }\n",
       "\n",
       "    .dataframe thead th {\n",
       "        text-align: right;\n",
       "    }\n",
       "</style>\n",
       "<table border=\"1\" class=\"dataframe\">\n",
       "  <thead>\n",
       "    <tr style=\"text-align: right;\">\n",
       "      <th></th>\n",
       "      <th>Date</th>\n",
       "      <th>Time</th>\n",
       "      <th>Transaction_id</th>\n",
       "      <th>Menu</th>\n",
       "      <th>Quantity</th>\n",
       "      <th>Price</th>\n",
       "      <th>Revenue</th>\n",
       "    </tr>\n",
       "  </thead>\n",
       "  <tbody>\n",
       "    <tr>\n",
       "      <th>0</th>\n",
       "      <td>2021-01-02</td>\n",
       "      <td>08:38</td>\n",
       "      <td>150040</td>\n",
       "      <td>Baguette</td>\n",
       "      <td>1</td>\n",
       "      <td>0.90</td>\n",
       "      <td>0.90</td>\n",
       "    </tr>\n",
       "    <tr>\n",
       "      <th>1</th>\n",
       "      <td>2021-01-02</td>\n",
       "      <td>08:38</td>\n",
       "      <td>150040</td>\n",
       "      <td>Pain Au Chocolat</td>\n",
       "      <td>3</td>\n",
       "      <td>1.20</td>\n",
       "      <td>3.60</td>\n",
       "    </tr>\n",
       "    <tr>\n",
       "      <th>4</th>\n",
       "      <td>2021-01-02</td>\n",
       "      <td>09:14</td>\n",
       "      <td>150041</td>\n",
       "      <td>Pain Au Chocolat</td>\n",
       "      <td>2</td>\n",
       "      <td>1.20</td>\n",
       "      <td>2.40</td>\n",
       "    </tr>\n",
       "    <tr>\n",
       "      <th>5</th>\n",
       "      <td>2021-01-02</td>\n",
       "      <td>09:14</td>\n",
       "      <td>150041</td>\n",
       "      <td>Pain</td>\n",
       "      <td>1</td>\n",
       "      <td>1.15</td>\n",
       "      <td>1.15</td>\n",
       "    </tr>\n",
       "    <tr>\n",
       "      <th>8</th>\n",
       "      <td>2021-01-02</td>\n",
       "      <td>09:25</td>\n",
       "      <td>150042</td>\n",
       "      <td>Traditional Baguette</td>\n",
       "      <td>5</td>\n",
       "      <td>1.20</td>\n",
       "      <td>6.00</td>\n",
       "    </tr>\n",
       "  </tbody>\n",
       "</table>\n",
       "</div>"
      ],
      "text/plain": [
       "         Date   Time  Transaction_id                  Menu  Quantity  Price  \\\n",
       "0  2021-01-02  08:38          150040              Baguette         1   0.90   \n",
       "1  2021-01-02  08:38          150040      Pain Au Chocolat         3   1.20   \n",
       "4  2021-01-02  09:14          150041      Pain Au Chocolat         2   1.20   \n",
       "5  2021-01-02  09:14          150041                  Pain         1   1.15   \n",
       "8  2021-01-02  09:25          150042  Traditional Baguette         5   1.20   \n",
       "\n",
       "   Revenue  \n",
       "0     0.90  \n",
       "1     3.60  \n",
       "4     2.40  \n",
       "5     1.15  \n",
       "8     6.00  "
      ]
     },
     "execution_count": 20,
     "metadata": {},
     "output_type": "execute_result"
    }
   ],
   "source": [
    "df.head()"
   ]
  },
  {
   "cell_type": "code",
   "execution_count": null,
   "id": "e47632ed-893f-42be-b305-692e30a7ee8a",
   "metadata": {},
   "outputs": [],
   "source": []
  }
 ],
 "metadata": {
  "kernelspec": {
   "display_name": "Python 3 (ipykernel)",
   "language": "python",
   "name": "python3"
  },
  "language_info": {
   "codemirror_mode": {
    "name": "ipython",
    "version": 3
   },
   "file_extension": ".py",
   "mimetype": "text/x-python",
   "name": "python",
   "nbconvert_exporter": "python",
   "pygments_lexer": "ipython3",
   "version": "3.12.6"
  }
 },
 "nbformat": 4,
 "nbformat_minor": 5
}
