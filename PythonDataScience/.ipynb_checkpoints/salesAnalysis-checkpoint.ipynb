{
 "cells": [
  {
   "cell_type": "code",
   "execution_count": 57,
   "id": "920d9329-3f06-4b5d-83fa-fb68fc72f771",
   "metadata": {},
   "outputs": [],
   "source": [
    "import pandas as pd\n",
    "import numpy as np\n",
    "import seaborn as sns\n",
    "import matplotlib.pylab as plt\n",
    "import plotly.express as px\n",
    "plt.style.use('fivethirtyeight')#theme for the plot area"
   ]
  },
  {
   "cell_type": "code",
   "execution_count": 58,
   "id": "ab6bd97e-6a3c-4071-b984-2e6f4d6a7073",
   "metadata": {},
   "outputs": [
    {
     "data": {
      "text/html": [
       "<div>\n",
       "<style scoped>\n",
       "    .dataframe tbody tr th:only-of-type {\n",
       "        vertical-align: middle;\n",
       "    }\n",
       "\n",
       "    .dataframe tbody tr th {\n",
       "        vertical-align: top;\n",
       "    }\n",
       "\n",
       "    .dataframe thead th {\n",
       "        text-align: right;\n",
       "    }\n",
       "</style>\n",
       "<table border=\"1\" class=\"dataframe\">\n",
       "  <thead>\n",
       "    <tr style=\"text-align: right;\">\n",
       "      <th></th>\n",
       "      <th>date</th>\n",
       "      <th>time</th>\n",
       "      <th>ticket_number</th>\n",
       "      <th>article</th>\n",
       "      <th>Quantity</th>\n",
       "      <th>unit_price</th>\n",
       "    </tr>\n",
       "  </thead>\n",
       "  <tbody>\n",
       "    <tr>\n",
       "      <th>0</th>\n",
       "      <td>2021-01-02</td>\n",
       "      <td>08:38</td>\n",
       "      <td>150040.0</td>\n",
       "      <td>BAGUETTE</td>\n",
       "      <td>1.0</td>\n",
       "      <td>0,90 €</td>\n",
       "    </tr>\n",
       "    <tr>\n",
       "      <th>1</th>\n",
       "      <td>2021-01-02</td>\n",
       "      <td>08:38</td>\n",
       "      <td>150040.0</td>\n",
       "      <td>PAIN AU CHOCOLAT</td>\n",
       "      <td>3.0</td>\n",
       "      <td>1,20 €</td>\n",
       "    </tr>\n",
       "    <tr>\n",
       "      <th>4</th>\n",
       "      <td>2021-01-02</td>\n",
       "      <td>09:14</td>\n",
       "      <td>150041.0</td>\n",
       "      <td>PAIN AU CHOCOLAT</td>\n",
       "      <td>2.0</td>\n",
       "      <td>1,20 €</td>\n",
       "    </tr>\n",
       "    <tr>\n",
       "      <th>5</th>\n",
       "      <td>2021-01-02</td>\n",
       "      <td>09:14</td>\n",
       "      <td>150041.0</td>\n",
       "      <td>PAIN</td>\n",
       "      <td>1.0</td>\n",
       "      <td>1,15 €</td>\n",
       "    </tr>\n",
       "    <tr>\n",
       "      <th>8</th>\n",
       "      <td>2021-01-02</td>\n",
       "      <td>09:25</td>\n",
       "      <td>150042.0</td>\n",
       "      <td>TRADITIONAL BAGUETTE</td>\n",
       "      <td>5.0</td>\n",
       "      <td>1,20 €</td>\n",
       "    </tr>\n",
       "    <tr>\n",
       "      <th>11</th>\n",
       "      <td>2021-01-02</td>\n",
       "      <td>09:25</td>\n",
       "      <td>150043.0</td>\n",
       "      <td>BAGUETTE</td>\n",
       "      <td>2.0</td>\n",
       "      <td>0,90 €</td>\n",
       "    </tr>\n",
       "    <tr>\n",
       "      <th>12</th>\n",
       "      <td>2021-01-02</td>\n",
       "      <td>09:25</td>\n",
       "      <td>150043.0</td>\n",
       "      <td>CROISSANT</td>\n",
       "      <td>3.0</td>\n",
       "      <td>1,10 €</td>\n",
       "    </tr>\n",
       "    <tr>\n",
       "      <th>15</th>\n",
       "      <td>2021-01-02</td>\n",
       "      <td>09:27</td>\n",
       "      <td>150044.0</td>\n",
       "      <td>BANETTE</td>\n",
       "      <td>1.0</td>\n",
       "      <td>1,05 €</td>\n",
       "    </tr>\n",
       "    <tr>\n",
       "      <th>18</th>\n",
       "      <td>2021-01-02</td>\n",
       "      <td>09:32</td>\n",
       "      <td>150045.0</td>\n",
       "      <td>TRADITIONAL BAGUETTE</td>\n",
       "      <td>3.0</td>\n",
       "      <td>1,20 €</td>\n",
       "    </tr>\n",
       "    <tr>\n",
       "      <th>19</th>\n",
       "      <td>2021-01-02</td>\n",
       "      <td>09:32</td>\n",
       "      <td>150045.0</td>\n",
       "      <td>CROISSANT</td>\n",
       "      <td>6.0</td>\n",
       "      <td>1,10 €</td>\n",
       "    </tr>\n",
       "  </tbody>\n",
       "</table>\n",
       "</div>"
      ],
      "text/plain": [
       "          date   time  ticket_number               article  Quantity  \\\n",
       "0   2021-01-02  08:38       150040.0              BAGUETTE       1.0   \n",
       "1   2021-01-02  08:38       150040.0      PAIN AU CHOCOLAT       3.0   \n",
       "4   2021-01-02  09:14       150041.0      PAIN AU CHOCOLAT       2.0   \n",
       "5   2021-01-02  09:14       150041.0                  PAIN       1.0   \n",
       "8   2021-01-02  09:25       150042.0  TRADITIONAL BAGUETTE       5.0   \n",
       "11  2021-01-02  09:25       150043.0              BAGUETTE       2.0   \n",
       "12  2021-01-02  09:25       150043.0             CROISSANT       3.0   \n",
       "15  2021-01-02  09:27       150044.0               BANETTE       1.0   \n",
       "18  2021-01-02  09:32       150045.0  TRADITIONAL BAGUETTE       3.0   \n",
       "19  2021-01-02  09:32       150045.0             CROISSANT       6.0   \n",
       "\n",
       "   unit_price  \n",
       "0      0,90 €  \n",
       "1      1,20 €  \n",
       "4      1,20 €  \n",
       "5      1,15 €  \n",
       "8      1,20 €  \n",
       "11     0,90 €  \n",
       "12     1,10 €  \n",
       "15     1,05 €  \n",
       "18     1,20 €  \n",
       "19     1,10 €  "
      ]
     },
     "execution_count": 58,
     "metadata": {},
     "output_type": "execute_result"
    }
   ],
   "source": [
    "# connecting to the datasource\n",
    "df = pd.read_csv('dataset/bakery_sales.csv', index_col = 0)\n",
    "df.head(10)"
   ]
  },
  {
   "cell_type": "code",
   "execution_count": 59,
   "id": "819d1492-4881-4d87-aeb9-404c83622b84",
   "metadata": {},
   "outputs": [
    {
     "name": "stdout",
     "output_type": "stream",
     "text": [
      "(234005, 6)\n"
     ]
    }
   ],
   "source": [
    "print(df.shape)#checking the structure of our data(total rows and columns)"
   ]
  },
  {
   "cell_type": "code",
   "execution_count": 60,
   "id": "c76a0104-b8a3-4e86-9ca1-28417bf51704",
   "metadata": {},
   "outputs": [
    {
     "name": "stdout",
     "output_type": "stream",
     "text": [
      "<class 'pandas.core.frame.DataFrame'>\n",
      "Index: 234005 entries, 0 to 511395\n",
      "Data columns (total 6 columns):\n",
      " #   Column         Non-Null Count   Dtype  \n",
      "---  ------         --------------   -----  \n",
      " 0   date           234005 non-null  object \n",
      " 1   time           234005 non-null  object \n",
      " 2   ticket_number  234005 non-null  float64\n",
      " 3   article        234005 non-null  object \n",
      " 4   Quantity       234005 non-null  float64\n",
      " 5   unit_price     234005 non-null  object \n",
      "dtypes: float64(2), object(4)\n",
      "memory usage: 12.5+ MB\n",
      "None\n"
     ]
    }
   ],
   "source": [
    "print(df.info())"
   ]
  },
  {
   "cell_type": "markdown",
   "id": "43522829-f618-4765-894e-854424f33402",
   "metadata": {},
   "source": [
    "data cleaning processes. removing blanks, duplicates, null values etc"
   ]
  },
  {
   "cell_type": "code",
   "execution_count": 61,
   "id": "7483e690-23b2-4ec4-aaf4-8db21efbfba6",
   "metadata": {},
   "outputs": [
    {
     "name": "stdout",
     "output_type": "stream",
     "text": [
      "date             0\n",
      "time             0\n",
      "ticket_number    0\n",
      "article          0\n",
      "Quantity         0\n",
      "unit_price       0\n",
      "dtype: int64\n"
     ]
    }
   ],
   "source": [
    "# find missing values\n",
    "print(df.isna().sum())"
   ]
  },
  {
   "cell_type": "code",
   "execution_count": 62,
   "id": "1fa9b233-ad73-4e27-a898-8b81307262c8",
   "metadata": {},
   "outputs": [
    {
     "data": {
      "text/plain": [
       "np.int64(1210)"
      ]
     },
     "execution_count": 62,
     "metadata": {},
     "output_type": "execute_result"
    }
   ],
   "source": [
    "# find duplicated data\n",
    "df.duplicated().sum()"
   ]
  },
  {
   "cell_type": "code",
   "execution_count": 63,
   "id": "331278af-5d0e-4c72-b5cd-e6d39f077515",
   "metadata": {},
   "outputs": [
    {
     "data": {
      "text/plain": [
       "(232795, 6)"
      ]
     },
     "execution_count": 63,
     "metadata": {},
     "output_type": "execute_result"
    }
   ],
   "source": [
    "# remove the duplicated values\n",
    "df= df.drop_duplicates()\n",
    "df.shape"
   ]
  },
  {
   "cell_type": "code",
   "execution_count": 64,
   "id": "e583461c-f4b9-4d9c-af61-ac2daa615e52",
   "metadata": {},
   "outputs": [],
   "source": [
    "# rename the columns to have more meaningful names\n",
    "df = df.rename(columns = {'date': 'Date',\n",
    "                          'time':'Time',\n",
    "                          'ticket_number':'Transaction_id',\n",
    "                          'article':'Menu',\n",
    "                          'unit_price':'Price'})\n",
    "\n",
    "# convert the Menu value to title case\n",
    "df['Menu'] =df['Menu'].str.title()\n",
    "\n",
    "# remove the . in quantity and fix the Price\n",
    "df = df.replace(to_replace = {'Quantity' : {'.': ''},\n",
    "                              'Price' : {'€' : '', ',':'.'}}, regex=True)\n",
    "\n",
    "# change the datatype of the Quantity, Price, Menu and Transaction_id\n",
    "df = df.astype({'Quantity': 'int',\n",
    "                'Price' : 'float',\n",
    "                'Transaction_id' : 'int',\n",
    "                'Menu' : 'str'})"
   ]
  },
  {
   "cell_type": "code",
   "execution_count": 65,
   "id": "504440e7-751a-4749-bd54-6c94b268549c",
   "metadata": {},
   "outputs": [],
   "source": [
    "# create a Revenue Column to find the bakery's income\n",
    "df['Revenue'] = df['Quantity']*df['Price']"
   ]
  },
  {
   "cell_type": "code",
   "execution_count": 66,
   "id": "2ffecd3a-bc22-40ec-b0c7-6c6626e99099",
   "metadata": {},
   "outputs": [
    {
     "name": "stdout",
     "output_type": "stream",
     "text": [
      "<class 'pandas.core.frame.DataFrame'>\n",
      "Index: 232795 entries, 0 to 511395\n",
      "Data columns (total 7 columns):\n",
      " #   Column          Non-Null Count   Dtype  \n",
      "---  ------          --------------   -----  \n",
      " 0   Date            232795 non-null  object \n",
      " 1   Time            232795 non-null  object \n",
      " 2   Transaction_id  232795 non-null  int64  \n",
      " 3   Menu            232795 non-null  object \n",
      " 4   Quantity        232795 non-null  int64  \n",
      " 5   Price           232795 non-null  float64\n",
      " 6   Revenue         232795 non-null  float64\n",
      "dtypes: float64(2), int64(2), object(3)\n",
      "memory usage: 14.2+ MB\n",
      "None\n"
     ]
    }
   ],
   "source": [
    "print(df.info())"
   ]
  },
  {
   "cell_type": "code",
   "execution_count": 67,
   "id": "779b2d42-79b0-4270-bcac-edfbe2f32f25",
   "metadata": {},
   "outputs": [
    {
     "data": {
      "text/html": [
       "<div>\n",
       "<style scoped>\n",
       "    .dataframe tbody tr th:only-of-type {\n",
       "        vertical-align: middle;\n",
       "    }\n",
       "\n",
       "    .dataframe tbody tr th {\n",
       "        vertical-align: top;\n",
       "    }\n",
       "\n",
       "    .dataframe thead th {\n",
       "        text-align: right;\n",
       "    }\n",
       "</style>\n",
       "<table border=\"1\" class=\"dataframe\">\n",
       "  <thead>\n",
       "    <tr style=\"text-align: right;\">\n",
       "      <th></th>\n",
       "      <th>Date</th>\n",
       "      <th>Time</th>\n",
       "      <th>Transaction_id</th>\n",
       "      <th>Menu</th>\n",
       "      <th>Quantity</th>\n",
       "      <th>Price</th>\n",
       "      <th>Revenue</th>\n",
       "    </tr>\n",
       "  </thead>\n",
       "  <tbody>\n",
       "    <tr>\n",
       "      <th>0</th>\n",
       "      <td>2021-01-02</td>\n",
       "      <td>08:38</td>\n",
       "      <td>150040</td>\n",
       "      <td>Baguette</td>\n",
       "      <td>1</td>\n",
       "      <td>0.90</td>\n",
       "      <td>0.90</td>\n",
       "    </tr>\n",
       "    <tr>\n",
       "      <th>1</th>\n",
       "      <td>2021-01-02</td>\n",
       "      <td>08:38</td>\n",
       "      <td>150040</td>\n",
       "      <td>Pain Au Chocolat</td>\n",
       "      <td>3</td>\n",
       "      <td>1.20</td>\n",
       "      <td>3.60</td>\n",
       "    </tr>\n",
       "    <tr>\n",
       "      <th>4</th>\n",
       "      <td>2021-01-02</td>\n",
       "      <td>09:14</td>\n",
       "      <td>150041</td>\n",
       "      <td>Pain Au Chocolat</td>\n",
       "      <td>2</td>\n",
       "      <td>1.20</td>\n",
       "      <td>2.40</td>\n",
       "    </tr>\n",
       "    <tr>\n",
       "      <th>5</th>\n",
       "      <td>2021-01-02</td>\n",
       "      <td>09:14</td>\n",
       "      <td>150041</td>\n",
       "      <td>Pain</td>\n",
       "      <td>1</td>\n",
       "      <td>1.15</td>\n",
       "      <td>1.15</td>\n",
       "    </tr>\n",
       "    <tr>\n",
       "      <th>8</th>\n",
       "      <td>2021-01-02</td>\n",
       "      <td>09:25</td>\n",
       "      <td>150042</td>\n",
       "      <td>Traditional Baguette</td>\n",
       "      <td>5</td>\n",
       "      <td>1.20</td>\n",
       "      <td>6.00</td>\n",
       "    </tr>\n",
       "  </tbody>\n",
       "</table>\n",
       "</div>"
      ],
      "text/plain": [
       "         Date   Time  Transaction_id                  Menu  Quantity  Price  \\\n",
       "0  2021-01-02  08:38          150040              Baguette         1   0.90   \n",
       "1  2021-01-02  08:38          150040      Pain Au Chocolat         3   1.20   \n",
       "4  2021-01-02  09:14          150041      Pain Au Chocolat         2   1.20   \n",
       "5  2021-01-02  09:14          150041                  Pain         1   1.15   \n",
       "8  2021-01-02  09:25          150042  Traditional Baguette         5   1.20   \n",
       "\n",
       "   Revenue  \n",
       "0     0.90  \n",
       "1     3.60  \n",
       "4     2.40  \n",
       "5     1.15  \n",
       "8     6.00  "
      ]
     },
     "execution_count": 67,
     "metadata": {},
     "output_type": "execute_result"
    }
   ],
   "source": [
    "df.head()"
   ]
  },
  {
   "cell_type": "code",
   "execution_count": 68,
   "id": "876c9c3a-02b5-4fbb-8ace-c4bac17c8193",
   "metadata": {},
   "outputs": [],
   "source": [
    "# convert  the date to Datetime datatype\n",
    "df['Date'] = pd.to_datetime(df['Date'])"
   ]
  },
  {
   "cell_type": "code",
   "execution_count": 69,
   "id": "122031a2-d192-4955-a952-e99c893fff30",
   "metadata": {},
   "outputs": [
    {
     "name": "stdout",
     "output_type": "stream",
     "text": [
      "<class 'pandas.core.frame.DataFrame'>\n",
      "Index: 232795 entries, 0 to 511395\n",
      "Data columns (total 7 columns):\n",
      " #   Column          Non-Null Count   Dtype         \n",
      "---  ------          --------------   -----         \n",
      " 0   Date            232795 non-null  datetime64[ns]\n",
      " 1   Time            232795 non-null  object        \n",
      " 2   Transaction_id  232795 non-null  int64         \n",
      " 3   Menu            232795 non-null  object        \n",
      " 4   Quantity        232795 non-null  int64         \n",
      " 5   Price           232795 non-null  float64       \n",
      " 6   Revenue         232795 non-null  float64       \n",
      "dtypes: datetime64[ns](1), float64(2), int64(2), object(2)\n",
      "memory usage: 14.2+ MB\n",
      "None\n"
     ]
    }
   ],
   "source": [
    "print(df.info())"
   ]
  },
  {
   "cell_type": "code",
   "execution_count": 71,
   "id": "2bc867ce-bac8-4a5e-bb85-d70a4e782ab1",
   "metadata": {},
   "outputs": [
    {
     "name": "stderr",
     "output_type": "stream",
     "text": [
      "C:\\Users\\user\\AppData\\Local\\Temp\\ipykernel_14124\\3849154833.py:21: UserWarning: Could not infer format, so each element will be parsed individually, falling back to `dateutil`. To ensure parsing is consistent and as-expected, please specify a format.\n",
      "  df['Day_time'] = pd.to_datetime(df['Time']).dt.hour\n"
     ]
    },
    {
     "ename": "AttributeError",
     "evalue": "'Series' object has no attribute 'Day_Time'",
     "output_type": "error",
     "traceback": [
      "\u001b[1;31m---------------------------------------------------------------------------\u001b[0m",
      "\u001b[1;31mAttributeError\u001b[0m                            Traceback (most recent call last)",
      "\u001b[1;32m~\\AppData\\Local\\Temp\\ipykernel_14124\\3849154833.py\u001b[0m in \u001b[0;36m?\u001b[1;34m()\u001b[0m\n\u001b[0;32m     29\u001b[0m     \u001b[1;32melse\u001b[0m\u001b[1;33m:\u001b[0m\u001b[1;33m\u001b[0m\u001b[1;33m\u001b[0m\u001b[0m\n\u001b[0;32m     30\u001b[0m         \u001b[1;32mreturn\u001b[0m \u001b[1;34m'Evening'\u001b[0m\u001b[1;33m\u001b[0m\u001b[1;33m\u001b[0m\u001b[0m\n\u001b[0;32m     31\u001b[0m \u001b[1;33m\u001b[0m\u001b[0m\n\u001b[0;32m     32\u001b[0m \u001b[1;31m# Apply these to the new column\u001b[0m\u001b[1;33m\u001b[0m\u001b[1;33m\u001b[0m\u001b[0m\n\u001b[1;32m---> 33\u001b[1;33m \u001b[0mdf\u001b[0m\u001b[1;33m[\u001b[0m\u001b[1;34m'Day_time'\u001b[0m\u001b[1;33m]\u001b[0m \u001b[1;33m=\u001b[0m \u001b[0mdf\u001b[0m\u001b[1;33m.\u001b[0m\u001b[0mDay\u001b[0m\u001b[1;33m.\u001b[0m\u001b[0mDay_Time\u001b[0m\u001b[1;33m.\u001b[0m\u001b[0mapply\u001b[0m\u001b[1;33m(\u001b[0m\u001b[0mday_time\u001b[0m\u001b[1;33m)\u001b[0m\u001b[1;33m\u001b[0m\u001b[1;33m\u001b[0m\u001b[0m\n\u001b[0m\u001b[0;32m     34\u001b[0m \u001b[0mdf\u001b[0m\u001b[1;33m.\u001b[0m\u001b[0mhead\u001b[0m\u001b[1;33m(\u001b[0m\u001b[1;36m3\u001b[0m\u001b[1;33m)\u001b[0m\u001b[1;33m\u001b[0m\u001b[1;33m\u001b[0m\u001b[0m\n",
      "\u001b[1;32m~\\AppData\\Local\\Programs\\Python\\Python312\\Lib\\site-packages\\pandas\\core\\generic.py\u001b[0m in \u001b[0;36m?\u001b[1;34m(self, name)\u001b[0m\n\u001b[0;32m   6295\u001b[0m             \u001b[1;32mand\u001b[0m \u001b[0mname\u001b[0m \u001b[1;32mnot\u001b[0m \u001b[1;32min\u001b[0m \u001b[0mself\u001b[0m\u001b[1;33m.\u001b[0m\u001b[0m_accessors\u001b[0m\u001b[1;33m\u001b[0m\u001b[1;33m\u001b[0m\u001b[0m\n\u001b[0;32m   6296\u001b[0m             \u001b[1;32mand\u001b[0m \u001b[0mself\u001b[0m\u001b[1;33m.\u001b[0m\u001b[0m_info_axis\u001b[0m\u001b[1;33m.\u001b[0m\u001b[0m_can_hold_identifiers_and_holds_name\u001b[0m\u001b[1;33m(\u001b[0m\u001b[0mname\u001b[0m\u001b[1;33m)\u001b[0m\u001b[1;33m\u001b[0m\u001b[1;33m\u001b[0m\u001b[0m\n\u001b[0;32m   6297\u001b[0m         \u001b[1;33m)\u001b[0m\u001b[1;33m:\u001b[0m\u001b[1;33m\u001b[0m\u001b[1;33m\u001b[0m\u001b[0m\n\u001b[0;32m   6298\u001b[0m             \u001b[1;32mreturn\u001b[0m \u001b[0mself\u001b[0m\u001b[1;33m[\u001b[0m\u001b[0mname\u001b[0m\u001b[1;33m]\u001b[0m\u001b[1;33m\u001b[0m\u001b[1;33m\u001b[0m\u001b[0m\n\u001b[1;32m-> 6299\u001b[1;33m         \u001b[1;32mreturn\u001b[0m \u001b[0mobject\u001b[0m\u001b[1;33m.\u001b[0m\u001b[0m__getattribute__\u001b[0m\u001b[1;33m(\u001b[0m\u001b[0mself\u001b[0m\u001b[1;33m,\u001b[0m \u001b[0mname\u001b[0m\u001b[1;33m)\u001b[0m\u001b[1;33m\u001b[0m\u001b[1;33m\u001b[0m\u001b[0m\n\u001b[0m",
      "\u001b[1;31mAttributeError\u001b[0m: 'Series' object has no attribute 'Day_Time'"
     ]
    }
   ],
   "source": [
    "# breakdown the date column into weekday, day, month, Quater and year\n",
    "df['Weekday'] = df['Date'].dt.weekday\n",
    "df['Day'] = df['Date'].dt.day\n",
    "df['Month'] = df['Date'].dt.to_period('M')\n",
    "df['Year'] = df['Date'].dt.year\n",
    "df['Quarter'] = df['Date'].dt.to_period('Q')\n",
    "\n",
    "# turn the \"Weekday\" column int name of the week\n",
    "df = df.replace(to_replace = {\n",
    "    'Weekday' : {\n",
    "        0 : 'Monday',\n",
    "        1 : 'Tuesday',\n",
    "        2 : 'Wednesday',\n",
    "        3 : 'Thursday',\n",
    "        4 : 'Friday',\n",
    "        5 : 'Saturday',\n",
    "        6 : 'Sunday'\n",
    "    }}, regex = True)\n",
    "\n",
    "#  breakdown \"Time\" column into day time(Morning, mid_day, evening)\n",
    "df['Day_time'] = pd.to_datetime(df['Time']).dt.hour\n",
    "\n",
    "#  create a function from hour to daytime\n",
    "def day_time(Day_time):\n",
    "    if Day_time < 12:\n",
    "        return 'Morning'\n",
    "    elif Day_time < 16:\n",
    "        return 'Mid_Day'\n",
    "    else:\n",
    "        return 'Evening'\n",
    "\n",
    "# Apply these to the new column\n",
    "df['Day_time'] = df.Day.Day_Time.apply(day_time)\n",
    "df.head(3)"
   ]
  },
  {
   "cell_type": "code",
   "execution_count": null,
   "id": "7126d922-11e3-4393-b9ee-e85e5a4f012b",
   "metadata": {},
   "outputs": [],
   "source": [
    "# Sort the data to view from the smallest to the largest\n",
    "df.sort_values(by=['Menu', 'Quantity', 'Price', 'Revenue'])"
   ]
  },
  {
   "cell_type": "code",
   "execution_count": null,
   "id": "7825b9b6-8494-4f74-a1ae-41bc5d43070f",
   "metadata": {},
   "outputs": [],
   "source": []
  }
 ],
 "metadata": {
  "kernelspec": {
   "display_name": "Python 3 (ipykernel)",
   "language": "python",
   "name": "python3"
  },
  "language_info": {
   "codemirror_mode": {
    "name": "ipython",
    "version": 3
   },
   "file_extension": ".py",
   "mimetype": "text/x-python",
   "name": "python",
   "nbconvert_exporter": "python",
   "pygments_lexer": "ipython3",
   "version": "3.12.5"
  }
 },
 "nbformat": 4,
 "nbformat_minor": 5
}
